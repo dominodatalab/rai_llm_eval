{
 "cells": [
  {
   "cell_type": "code",
   "execution_count": 4,
   "id": "396b9cd8-a81d-4213-a342-f7112b3e4017",
   "metadata": {
    "tags": []
   },
   "outputs": [],
   "source": [
    "import yaml"
   ]
  },
  {
   "cell_type": "code",
   "execution_count": 5,
   "id": "79dc088e-58a9-42d5-96de-f4df34c3766a",
   "metadata": {
    "tags": []
   },
   "outputs": [],
   "source": [
    "def load_yaml_file(filepath):\n",
    "    \"\"\" Load the YAML file from the specified path \"\"\"\n",
    "    with open(filepath, 'r') as file:\n",
    "        return yaml.safe_load(file)\n",
    "\n",
    "def display_questions(data):\n",
    "    \"\"\" Display sections, subsections, questions, responses, and criteria \"\"\"\n",
    "    for section in data['sections']:\n",
    "        print(f\"Section {section['section_id']}: {section['title']}\")\n",
    "        for subsection in section['subsections']:\n",
    "            print(f\"  Subsection {subsection['subsection_id']}: {subsection['title']}\")\n",
    "            for question in subsection['questions']:\n",
    "                print(f\"    Question {question['question_id']}: {question['text']}\")\n",
    "                print(f\"    Response: {question['response']}\")\n",
    "                print(\"    Criteria:\")\n",
    "                for criterion in question['criteria']:\n",
    "                    print(f\"      - {criterion}\")\n"
   ]
  },
  {
   "cell_type": "code",
   "execution_count": 6,
   "id": "25c8ac0c-db4a-4440-8994-2e859f2c35ec",
   "metadata": {
    "tags": []
   },
   "outputs": [
    {
     "name": "stdout",
     "output_type": "stream",
     "text": [
      "Section 1: System Information\n",
      "  Subsection 1.1: System Purpose\n",
      "    Question 1.1.1: Briefly describe the purpose of the system and system features, focusing on how the system will address the needs of the people who use it. Explain how the AI technology contributes to achieving these objectives.\n",
      "\n",
      "    Response: The system is designed to streamline project management processes, making it easier for teams to collaborate, track progress, and meet deadlines efficiently. Key features include task assignment, progress tracking, and predictive analytics for project completion times. AI technology is utilized to analyze past project data, helping to predict potential bottlenecks and suggest optimal resource allocation, thereby enhancing decision-making and ensuring projects are completed on time and within budget.\n",
      "\n",
      "    Criteria:\n",
      "      - Clearly states the primary purpose of the system\n",
      "      - Describes key system features relevant to the purpose\n",
      "      - Explains how the system meets user needs\n",
      "      - Details how AI technology enhances system functionality\n",
      "  Subsection 1.2: System Features\n",
      "    Question 1.2.1: Focusing on the whole system, briefly describe the system features or high-level feature areas that already exist and those planned for the upcoming release.\n",
      "\n",
      "    Response: Currently, the system boasts a robust task management module, real-time collaboration tools, and an analytics dashboard that provides insights into project health. For the upcoming release, we plan to introduce an AI-driven risk assessment feature that predicts project risks before they arise, and a resource optimization tool that suggests the best use of team members' time based on their skills and task priorities.\n",
      "\n",
      "    Criteria:\n",
      "      - Lists existing features of the system\n",
      "      - Identifies features planned for the next release\n",
      "      - Provides a clear distinction between existing and planned features\n",
      "    Question 1.2.2: Briefly describe how this system relates to other systems or products. For example, describe if the system includes models from other systems.\n",
      "\n",
      "    Response: Our system integrates seamlessly with several popular productivity tools, such as Trello for task management and Slack for communication. Additionally, we leverage AI models from external analytics platforms to enhance our predictive analytics features. This integration allows users to maintain their existing workflows while benefiting from our system's advanced project management capabilities.\n",
      "\n",
      "    Criteria:\n",
      "      - Describes relationships or integrations with other systems\n",
      "      - Mentions specific models or components borrowed from other systems\n",
      "      - Explains the significance of these relationships or integrations\n"
     ]
    }
   ],
   "source": [
    "# Load the YAML data\n",
    "data = load_yaml_file('questionnaire.yaml')\n",
    "\n",
    "# Display the questions, responses, and criteria\n",
    "display_questions(data)"
   ]
  },
  {
   "cell_type": "code",
   "execution_count": null,
   "id": "0179f55a-2587-4b19-9eb8-d0e6ffe8daab",
   "metadata": {},
   "outputs": [],
   "source": []
  }
 ],
 "metadata": {
  "dca-init": "true",
  "kernelspec": {
   "display_name": "Python 3 (ipykernel)",
   "language": "python",
   "name": "python3"
  },
  "language_info": {
   "codemirror_mode": {
    "name": "ipython",
    "version": 3
   },
   "file_extension": ".py",
   "mimetype": "text/x-python",
   "name": "python",
   "nbconvert_exporter": "python",
   "pygments_lexer": "ipython3",
   "version": "3.9.16"
  }
 },
 "nbformat": 4,
 "nbformat_minor": 5
}
