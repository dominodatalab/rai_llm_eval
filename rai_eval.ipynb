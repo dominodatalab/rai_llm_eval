{
 "cells": [
  {
   "cell_type": "code",
   "execution_count": 1,
   "id": "101868ab-a8b2-4ce3-8e84-873785e66c75",
   "metadata": {
    "tags": []
   },
   "outputs": [],
   "source": [
    "from langchain_core.pydantic_v1 import BaseModel, Field\n",
    "from langchain_openai import ChatOpenAI\n",
    "from langchain import PromptTemplate\n",
    "\n",
    "import yaml\n",
    "import csv "
   ]
  },
  {
   "cell_type": "code",
   "execution_count": 2,
   "id": "4d4d09ba-7019-43fc-9296-32ca87530787",
   "metadata": {
    "tags": []
   },
   "outputs": [],
   "source": [
    "def load_yaml_file(filepath):\n",
    "    \"\"\" Load the YAML file from the specified path \"\"\"\n",
    "    with open(filepath, 'r') as file:\n",
    "        return yaml.safe_load(file)"
   ]
  },
  {
   "cell_type": "code",
   "execution_count": 3,
   "id": "dedbcea4-3c86-4462-a3fd-b3df752510c9",
   "metadata": {
    "tags": []
   },
   "outputs": [],
   "source": [
    "def write_to_csv(rows, filename):\n",
    "    \"\"\" Write the collected data to a CSV file \"\"\"\n",
    "    keys = rows[0].keys()\n",
    "    with open(filename, 'w', newline='') as output_file:\n",
    "        dict_writer = csv.DictWriter(output_file, keys)\n",
    "        dict_writer.writeheader()\n",
    "        dict_writer.writerows(rows)"
   ]
  },
  {
   "cell_type": "code",
   "execution_count": 4,
   "id": "d7a29a64-cd8e-4bd5-8c15-32087f51ed07",
   "metadata": {
    "tags": []
   },
   "outputs": [],
   "source": [
    "class RAIScore(BaseModel):\n",
    "    scores: list[int] = Field(description=\"Score of the response based on the provided criteria\")\n",
    "    critiques: list[str] = Field(description=\"Critique of the response based on the criteria\")"
   ]
  },
  {
   "cell_type": "code",
   "execution_count": 5,
   "id": "fcb3c9b2-8fa5-4e8f-bb9a-cb8213e33e7d",
   "metadata": {
    "tags": []
   },
   "outputs": [],
   "source": [
    "model = ChatOpenAI(model=\"gpt-3.5-turbo-0125\", temperature=0)\n",
    "structured_llm = model.with_structured_output(RAIScore)"
   ]
  },
  {
   "cell_type": "code",
   "execution_count": 6,
   "id": "bfaf3b69-20f0-462e-a5be-79dcd9b5d4b1",
   "metadata": {
    "tags": []
   },
   "outputs": [],
   "source": [
    "eval_template = '''Question: {question}\n",
    "\n",
    "Response: {response}\n",
    "\n",
    "Criteria for Evaluation:\n",
    "{criteria}\n",
    "\n",
    "For each criterion listed above, please provide a score from 1 to 5, where 1 indicates a poor response and 5 indicates a good response, based on how well the Response to the Question meets the criterion. Additionally, offer a critique of the response for each of the criteria, highlighting its strengths and areas for improvement.\n",
    "\n",
    "Finally, provide an overall score from 1 to 5 for the response, considering all criteria, and summarize the key reasons for this score.'''"
   ]
  },
  {
   "cell_type": "code",
   "execution_count": 7,
   "id": "89223624-a762-4e86-881f-d9fa5032e2c9",
   "metadata": {
    "tags": []
   },
   "outputs": [],
   "source": [
    "eval_prompt = PromptTemplate(input_variables=[\"question\",\"response\",\"criteria\"], template=eval_template)"
   ]
  },
  {
   "cell_type": "code",
   "execution_count": 9,
   "id": "0502662f-765c-4c4a-8469-28131cfa4b30",
   "metadata": {
    "tags": []
   },
   "outputs": [],
   "source": [
    "# Load the YAML data\n",
    "data = load_yaml_file('questionnaire.yaml')\n",
    "rows = []\n",
    "\n",
    "for section in data['sections']:\n",
    "    for subsection in section['subsections']:\n",
    "        for question in subsection['questions']:\n",
    "            question_text = question['text']\n",
    "            question_response = question['response']\n",
    "            criteria_list = \"\\n\".join([f\"{idx + 1}. {criterion}\" for idx, criterion in enumerate(question['criteria'])])\n",
    "            rai_score =structured_llm.invoke(eval_prompt.format(\n",
    "                                                    question=question_text,\n",
    "                                                    response=question_response,\n",
    "                                                    criteria=criteria_list))\n",
    "            row = {\n",
    "                    'Section': section['title'],\n",
    "                    'Subsection': subsection['title'],\n",
    "                    'Question': question['text'],\n",
    "                    'Response': question['response'],\n",
    "                    'Scores': ', '.join(map(str, rai_score.scores)),\n",
    "                    'Critiques': ' | '.join(rai_score.critiques)  # Using pipe to separate critiques in one cell\n",
    "                }\n",
    "            rows.append(row)\n",
    "            \n",
    "# Write data to CSV\n",
    "write_to_csv(rows, 'report.csv')"
   ]
  },
  {
   "cell_type": "code",
   "execution_count": null,
   "id": "66480ca7-7507-478f-bdd7-06c188702514",
   "metadata": {},
   "outputs": [],
   "source": []
  }
 ],
 "metadata": {
  "dca-init": "true",
  "kernelspec": {
   "display_name": "Python 3 (ipykernel)",
   "language": "python",
   "name": "python3"
  },
  "language_info": {
   "codemirror_mode": {
    "name": "ipython",
    "version": 3
   },
   "file_extension": ".py",
   "mimetype": "text/x-python",
   "name": "python",
   "nbconvert_exporter": "python",
   "pygments_lexer": "ipython3",
   "version": "3.9.16"
  }
 },
 "nbformat": 4,
 "nbformat_minor": 5
}
